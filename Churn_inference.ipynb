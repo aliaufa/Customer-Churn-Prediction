{
 "cells": [
  {
   "cell_type": "code",
   "execution_count": 1,
   "metadata": {},
   "outputs": [],
   "source": [
    "import pandas as pd\n",
    "import pickle\n",
    "from tensorflow.keras.models import load_model"
   ]
  },
  {
   "cell_type": "code",
   "execution_count": 2,
   "metadata": {},
   "outputs": [],
   "source": [
    "with open('preprocessor.pkl', 'rb') as file_1:\n",
    "  model_pipeline = pickle.load(file_1)\n",
    "\n",
    "model_ann = load_model('churn_sequential_2.h5')"
   ]
  },
  {
   "cell_type": "code",
   "execution_count": 3,
   "metadata": {},
   "outputs": [
    {
     "data": {
      "text/html": [
       "<div>\n",
       "<style scoped>\n",
       "    .dataframe tbody tr th:only-of-type {\n",
       "        vertical-align: middle;\n",
       "    }\n",
       "\n",
       "    .dataframe tbody tr th {\n",
       "        vertical-align: top;\n",
       "    }\n",
       "\n",
       "    .dataframe thead th {\n",
       "        text-align: right;\n",
       "    }\n",
       "</style>\n",
       "<table border=\"1\" class=\"dataframe\">\n",
       "  <thead>\n",
       "    <tr style=\"text-align: right;\">\n",
       "      <th></th>\n",
       "      <th>user_id</th>\n",
       "      <th>age</th>\n",
       "      <th>gender</th>\n",
       "      <th>region_category</th>\n",
       "      <th>membership_category</th>\n",
       "      <th>joining_date</th>\n",
       "      <th>joined_through_referral</th>\n",
       "      <th>preferred_offer_types</th>\n",
       "      <th>medium_of_operation</th>\n",
       "      <th>internet_option</th>\n",
       "      <th>...</th>\n",
       "      <th>avg_time_spent</th>\n",
       "      <th>avg_transaction_value</th>\n",
       "      <th>avg_frequency_login_days</th>\n",
       "      <th>points_in_wallet</th>\n",
       "      <th>used_special_discount</th>\n",
       "      <th>offer_application_preference</th>\n",
       "      <th>past_complaint</th>\n",
       "      <th>complaint_status</th>\n",
       "      <th>feedback</th>\n",
       "      <th>churn_risk_score</th>\n",
       "    </tr>\n",
       "  </thead>\n",
       "  <tbody>\n",
       "    <tr>\n",
       "      <th>0</th>\n",
       "      <td>9f420209e7d129f3</td>\n",
       "      <td>29</td>\n",
       "      <td>F</td>\n",
       "      <td>Town</td>\n",
       "      <td>No Membership</td>\n",
       "      <td>2017-04-05</td>\n",
       "      <td>Yes</td>\n",
       "      <td>Without Offers</td>\n",
       "      <td>Smartphone</td>\n",
       "      <td>Wi-Fi</td>\n",
       "      <td>...</td>\n",
       "      <td>1184.49</td>\n",
       "      <td>38604.69</td>\n",
       "      <td>10.0</td>\n",
       "      <td>627.48</td>\n",
       "      <td>Yes</td>\n",
       "      <td>Yes</td>\n",
       "      <td>Yes</td>\n",
       "      <td>No Information Available</td>\n",
       "      <td>Poor Website</td>\n",
       "      <td>1</td>\n",
       "    </tr>\n",
       "  </tbody>\n",
       "</table>\n",
       "<p>1 rows × 22 columns</p>\n",
       "</div>"
      ],
      "text/plain": [
       "            user_id  age gender region_category membership_category  \\\n",
       "0  9f420209e7d129f3   29      F            Town       No Membership   \n",
       "\n",
       "  joining_date joined_through_referral preferred_offer_types  \\\n",
       "0   2017-04-05                     Yes        Without Offers   \n",
       "\n",
       "  medium_of_operation internet_option  ... avg_time_spent  \\\n",
       "0          Smartphone           Wi-Fi  ...        1184.49   \n",
       "\n",
       "   avg_transaction_value  avg_frequency_login_days  points_in_wallet  \\\n",
       "0               38604.69                      10.0            627.48   \n",
       "\n",
       "   used_special_discount  offer_application_preference past_complaint  \\\n",
       "0                    Yes                           Yes            Yes   \n",
       "\n",
       "           complaint_status      feedback churn_risk_score  \n",
       "0  No Information Available  Poor Website                1  \n",
       "\n",
       "[1 rows x 22 columns]"
      ]
     },
     "execution_count": 3,
     "metadata": {},
     "output_type": "execute_result"
    }
   ],
   "source": [
    "# Create A New Data\n",
    "\n",
    "data_inf = {\n",
    "            'user_id': '9f420209e7d129f3',\n",
    "            'age': 29,\n",
    "            'gender': 'F',\n",
    "            'region_category': 'Town',\n",
    "            'membership_category': 'No Membership',\n",
    "            'joining_date': '2017-04-05',\n",
    "            'joined_through_referral': 'Yes',\n",
    "            'preferred_offer_types': 'Without Offers',\n",
    "            'medium_of_operation': 'Smartphone',\n",
    "            'internet_option': 'Wi-Fi',\n",
    "            'last_visit_time': '22:29:49',\n",
    "            'days_since_last_login': 4,\n",
    "            'avg_time_spent': 1184.49,\n",
    "            'avg_transaction_value': 38604.69,\n",
    "            'avg_frequency_login_days': 10.0,\n",
    "            'points_in_wallet': 627.48,\n",
    "            'used_special_discount': 'Yes',\n",
    "            'offer_application_preference': 'Yes',\n",
    "            'past_complaint': 'Yes',\n",
    "            'complaint_status': 'No Information Available',\n",
    "            'feedback': 'Poor Website',\n",
    "            'churn_risk_score': 1\n",
    "            }\n",
    "\n",
    "data_inf = pd.DataFrame([data_inf])\n",
    "data_inf"
   ]
  },
  {
   "cell_type": "code",
   "execution_count": 4,
   "metadata": {},
   "outputs": [
    {
     "data": {
      "text/plain": [
       "array([[0.35185185, 0.12      , 1.        , 0.47196319, 0.2247191 ,\n",
       "        0.44837182, 0.        , 1.        , 0.        , 0.        ,\n",
       "        1.        , 0.        , 0.        , 1.        , 0.        ,\n",
       "        0.        , 1.        , 0.        , 0.        , 1.        ,\n",
       "        0.        , 0.        , 1.        , 0.        , 1.        ,\n",
       "        0.        , 1.        , 0.        , 1.        , 1.        ,\n",
       "        0.        , 0.        , 0.        , 0.        , 0.        ,\n",
       "        0.        , 0.        , 1.        , 0.        , 0.        ,\n",
       "        0.        , 0.        , 0.        ]])"
      ]
     },
     "execution_count": 4,
     "metadata": {},
     "output_type": "execute_result"
    }
   ],
   "source": [
    "# Transform Inference-Set\n",
    "\n",
    "data_inf_transform = model_pipeline.transform(data_inf)\n",
    "data_inf_transform"
   ]
  },
  {
   "cell_type": "code",
   "execution_count": 5,
   "metadata": {},
   "outputs": [
    {
     "name": "stdout",
     "output_type": "stream",
     "text": [
      "1/1 [==============================] - 1s 566ms/step\n"
     ]
    },
    {
     "data": {
      "text/plain": [
       "array([[1]])"
      ]
     },
     "execution_count": 5,
     "metadata": {},
     "output_type": "execute_result"
    }
   ],
   "source": [
    "# Predict using ANN\n",
    "\n",
    "import numpy as np\n",
    "y_pred_inf = model_ann.predict(data_inf_transform)\n",
    "y_pred_inf = np.where(y_pred_inf >= 0.5, 1, 0)\n",
    "y_pred_inf"
   ]
  },
  {
   "cell_type": "code",
   "execution_count": 6,
   "metadata": {},
   "outputs": [
    {
     "ename": "AttributeError",
     "evalue": "'Sequential' object has no attribute 'feature_importances_'",
     "output_type": "error",
     "traceback": [
      "\u001b[1;31m---------------------------------------------------------------------------\u001b[0m",
      "\u001b[1;31mAttributeError\u001b[0m                            Traceback (most recent call last)",
      "Cell \u001b[1;32mIn[6], line 1\u001b[0m\n\u001b[1;32m----> 1\u001b[0m model_ann\u001b[39m.\u001b[39;49mfeature_importances_\n",
      "\u001b[1;31mAttributeError\u001b[0m: 'Sequential' object has no attribute 'feature_importances_'"
     ]
    }
   ],
   "source": [
    "model_ann.feature_importances_"
   ]
  }
 ],
 "metadata": {
  "kernelspec": {
   "display_name": "base",
   "language": "python",
   "name": "python3"
  },
  "language_info": {
   "codemirror_mode": {
    "name": "ipython",
    "version": 3
   },
   "file_extension": ".py",
   "mimetype": "text/x-python",
   "name": "python",
   "nbconvert_exporter": "python",
   "pygments_lexer": "ipython3",
   "version": "3.10.9"
  },
  "orig_nbformat": 4
 },
 "nbformat": 4,
 "nbformat_minor": 2
}
